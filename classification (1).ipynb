{
  "nbformat": 4,
  "nbformat_minor": 0,
  "metadata": {
    "colab": {
      "name": "classification (1).ipynb",
      "provenance": [],
      "collapsed_sections": []
    },
    "kernelspec": {
      "name": "python3",
      "display_name": "Python 3"
    },
    "language_info": {
      "name": "python"
    }
  },
  "cells": [
    {
      "cell_type": "markdown",
      "source": [
        "# עבודה מספר 7 - קלאסיפיקציה"
      ],
      "metadata": {
        "id": "G3oAjHs0oEvP"
      }
    },
    {
      "cell_type": "markdown",
      "source": [
        "# חלק א' - מחירי יהלומים"
      ],
      "metadata": {
        "id": "beNaCGiUoPRb"
      }
    },
    {
      "cell_type": "code",
      "source": [
        "#Create a folder in google's cloud for my stuff\n",
        "!mkdir /root/.kaggle/ "
      ],
      "metadata": {
        "id": "eEN4HSMTooN3"
      },
      "execution_count": 1,
      "outputs": []
    },
    {
      "cell_type": "code",
      "source": [
        "import json\n",
        "import os\n",
        "\n",
        "# Installing the Kaggle package\n",
        "!pip install kaggle \n",
        "\n",
        "#Important Note: complete this with your own key - after running this for the first time remmember to **remove** your API_KEY\n",
        "api_token = {\"username\":\"shaharoded\",\"key\":\"47649d0e189bb2974572b495b853facb\"}\n",
        "\n",
        "# creating kaggle.json file with the personal API-Key details \n",
        "# You can also put this file on your Google Drive\n",
        "with open('/root/.kaggle/kaggle.json', 'w') as file:\n",
        "  json.dump(api_token, file)\n",
        "!chmod 600 /root/.kaggle/kaggle.json"
      ],
      "metadata": {
        "colab": {
          "base_uri": "https://localhost:8080/"
        },
        "id": "SUMp78F6oycs",
        "outputId": "f681d746-e50d-4e46-dc21-59c184bc8926"
      },
      "execution_count": 2,
      "outputs": [
        {
          "output_type": "stream",
          "name": "stdout",
          "text": [
            "Requirement already satisfied: kaggle in /usr/local/lib/python3.7/dist-packages (1.5.12)\n",
            "Requirement already satisfied: certifi in /usr/local/lib/python3.7/dist-packages (from kaggle) (2021.10.8)\n",
            "Requirement already satisfied: six>=1.10 in /usr/local/lib/python3.7/dist-packages (from kaggle) (1.15.0)\n",
            "Requirement already satisfied: python-dateutil in /usr/local/lib/python3.7/dist-packages (from kaggle) (2.8.2)\n",
            "Requirement already satisfied: urllib3 in /usr/local/lib/python3.7/dist-packages (from kaggle) (1.24.3)\n",
            "Requirement already satisfied: tqdm in /usr/local/lib/python3.7/dist-packages (from kaggle) (4.62.3)\n",
            "Requirement already satisfied: python-slugify in /usr/local/lib/python3.7/dist-packages (from kaggle) (5.0.2)\n",
            "Requirement already satisfied: requests in /usr/local/lib/python3.7/dist-packages (from kaggle) (2.23.0)\n",
            "Requirement already satisfied: text-unidecode>=1.3 in /usr/local/lib/python3.7/dist-packages (from python-slugify->kaggle) (1.3)\n",
            "Requirement already satisfied: chardet<4,>=3.0.2 in /usr/local/lib/python3.7/dist-packages (from requests->kaggle) (3.0.4)\n",
            "Requirement already satisfied: idna<3,>=2.5 in /usr/local/lib/python3.7/dist-packages (from requests->kaggle) (2.10)\n"
          ]
        }
      ]
    },
    {
      "cell_type": "code",
      "source": [
        "# searching for the dataset\n",
        "!kaggle datasets list -s diamonds"
      ],
      "metadata": {
        "colab": {
          "base_uri": "https://localhost:8080/"
        },
        "id": "O04MALoNo35f",
        "outputId": "695e914b-b9fc-4b00-bb5c-dc5a48bde0bf"
      },
      "execution_count": 3,
      "outputs": [
        {
          "output_type": "stream",
          "name": "stdout",
          "text": [
            "Warning: Looks like you're using an outdated API Version, please consider updating (server 1.5.12 / client 1.5.4)\n",
            "ref                                                        title                                              size  lastUpdated          downloadCount  \n",
            "---------------------------------------------------------  ------------------------------------------------  -----  -------------------  -------------  \n",
            "shivam2503/diamonds                                        Diamonds                                          733KB  2017-05-25 03:06:57          46526  \n",
            "miguelcorraljr/brilliant-diamonds                          Brilliant Diamonds                                  1MB  2020-12-14 04:18:52            696  \n",
            "resulcaliskan/diamonds                                     diamonds                                          582KB  2021-05-15 10:46:58             80  \n",
            "dysphoria/poker-hand-classification                        Poker Hand Classification                           7MB  2018-11-13 17:47:22            620  \n",
            "kalilurrahman/berkshire-hathaway-stock-latest-and-updated  Berkshire Hathaway - Stock - Latest and Updated   118KB  2021-12-24 20:12:04            114  \n",
            "rasvob/uci-poker-hand-dataset                              UCI Poker Hand Dataset                              6MB  2018-11-08 19:14:53            285  \n",
            "viccalexander/kanyewestverses                              Kanye West Rap Verses                             106KB  2016-09-12 05:46:43            984  \n",
            "ayushphutela/price-prediction-diamonds                     Price Prediction Diamonds                         608KB  2020-06-18 10:53:47             70  \n",
            "barbefeu/mispriced-diamonds                                Mispriced Diamonds                                121KB  2018-02-28 19:57:09            184  \n",
            "jonnyasher/diamonds                                        diamonds                                          466KB  2021-12-17 19:05:26             68  \n",
            "gunhcolab/object-detection-dataset-standard-52card-deck    Playing Cards Images - Object Detection Dataset    36MB  2020-10-09 08:16:36            291  \n",
            "pramodsable6/diamonds                                      Diamonds                                          733KB  2019-07-27 06:39:00             30  \n",
            "muby98/diamonds                                            Diamonds                                          590KB  2021-02-01 19:03:41              5  \n",
            "fakename6969/diamonds                                      diamonds                                          606KB  2021-09-05 17:39:54              0  \n",
            "munumbutt/brilliantdiamondsregressiontask                  brilliant-diamonds-regression-task                  1MB  2021-08-22 17:14:36             10  \n",
            "arimaha/what-makes-a-best-seller-item                      What makes A best seller item                       5KB  2019-05-03 09:37:19            205  \n",
            "abdelrahmanhosny/this-is-a-dataset-about-diamonds          dataset about diamonds                            454KB  2021-01-12 22:44:32             15  \n",
            "ohadperry9/diamonds                                        diamonds                                          736KB  2019-06-06 08:21:30             22  \n",
            "rayamuk/diamonds                                           diamonds                                          626KB  2021-04-02 08:30:53              0  \n",
            "harshitlakhani/natural-diamonds-prices-images              Natural Diamonds (Prices + Images)                 45MB  2021-12-23 03:44:19              4  \n"
          ]
        }
      ]
    },
    {
      "cell_type": "code",
      "source": [
        "# Creating a dataset directory\n",
        "!mkdir ./datasets\n",
        "!mkdir ./datasets/diamonds\n",
        "\n",
        "# download the dataset from Kaggle and unzip it\n",
        "!kaggle datasets download shivam2503/diamonds  -f diamonds.csv -p ./datasets/diamonds/"
      ],
      "metadata": {
        "colab": {
          "base_uri": "https://localhost:8080/"
        },
        "id": "6Q2qcUXfpKpG",
        "outputId": "7cef7145-b99e-462f-ec99-def48bbe3c09"
      },
      "execution_count": 4,
      "outputs": [
        {
          "output_type": "stream",
          "name": "stdout",
          "text": [
            "Downloading diamonds.csv.zip to ./datasets/diamonds\n",
            "\r  0% 0.00/733k [00:00<?, ?B/s]\n",
            "\r100% 733k/733k [00:00<00:00, 23.9MB/s]\n"
          ]
        }
      ]
    },
    {
      "cell_type": "code",
      "source": [
        "#Unzip \n",
        "!unzip ./datasets/diamonds/diamonds.csv.zip  -d ./datasets/diamonds/"
      ],
      "metadata": {
        "colab": {
          "base_uri": "https://localhost:8080/"
        },
        "id": "aMDCBOTRpe1l",
        "outputId": "22ba3d99-a158-4b43-f802-296a2fdecd10"
      },
      "execution_count": 5,
      "outputs": [
        {
          "output_type": "stream",
          "name": "stdout",
          "text": [
            "Archive:  ./datasets/diamonds/diamonds.csv.zip\n",
            "  inflating: ./datasets/diamonds/diamonds.csv  \n"
          ]
        }
      ]
    },
    {
      "cell_type": "code",
      "source": [
        "#pick libraries I want to use\n",
        "import pandas as pd\n",
        "import numpy as np\n",
        "import matplotlib.pyplot as plt\n",
        "%matplotlib inline\n",
        "from sklearn.linear_model import LinearRegression\n",
        "from sklearn.neighbors import KNeighborsClassifier\n",
        "from sklearn.model_selection import train_test_split\n",
        "from scipy.stats import pearsonr\n",
        "from sklearn import metrics"
      ],
      "metadata": {
        "id": "Ji9jiFT2qKs6"
      },
      "execution_count": 6,
      "outputs": []
    },
    {
      "cell_type": "code",
      "source": [
        "#create objects to work on (table) - paste the link of the files from the folder in the left\n",
        "diamonds_full_db = pd.read_csv(\"/content/datasets/diamonds/diamonds.csv\")\n",
        "diamonds_full_db"
      ],
      "metadata": {
        "colab": {
          "base_uri": "https://localhost:8080/",
          "height": 423
        },
        "id": "Jqe9Lh0xptP1",
        "outputId": "27739672-b448-4530-ce62-757691b95156"
      },
      "execution_count": 7,
      "outputs": [
        {
          "output_type": "execute_result",
          "data": {
            "text/html": [
              "\n",
              "  <div id=\"df-16915b4b-ae14-4d91-a55b-d4d61b847b1b\">\n",
              "    <div class=\"colab-df-container\">\n",
              "      <div>\n",
              "<style scoped>\n",
              "    .dataframe tbody tr th:only-of-type {\n",
              "        vertical-align: middle;\n",
              "    }\n",
              "\n",
              "    .dataframe tbody tr th {\n",
              "        vertical-align: top;\n",
              "    }\n",
              "\n",
              "    .dataframe thead th {\n",
              "        text-align: right;\n",
              "    }\n",
              "</style>\n",
              "<table border=\"1\" class=\"dataframe\">\n",
              "  <thead>\n",
              "    <tr style=\"text-align: right;\">\n",
              "      <th></th>\n",
              "      <th>Unnamed: 0</th>\n",
              "      <th>carat</th>\n",
              "      <th>cut</th>\n",
              "      <th>color</th>\n",
              "      <th>clarity</th>\n",
              "      <th>depth</th>\n",
              "      <th>table</th>\n",
              "      <th>price</th>\n",
              "      <th>x</th>\n",
              "      <th>y</th>\n",
              "      <th>z</th>\n",
              "    </tr>\n",
              "  </thead>\n",
              "  <tbody>\n",
              "    <tr>\n",
              "      <th>0</th>\n",
              "      <td>1</td>\n",
              "      <td>0.23</td>\n",
              "      <td>Ideal</td>\n",
              "      <td>E</td>\n",
              "      <td>SI2</td>\n",
              "      <td>61.5</td>\n",
              "      <td>55.0</td>\n",
              "      <td>326</td>\n",
              "      <td>3.95</td>\n",
              "      <td>3.98</td>\n",
              "      <td>2.43</td>\n",
              "    </tr>\n",
              "    <tr>\n",
              "      <th>1</th>\n",
              "      <td>2</td>\n",
              "      <td>0.21</td>\n",
              "      <td>Premium</td>\n",
              "      <td>E</td>\n",
              "      <td>SI1</td>\n",
              "      <td>59.8</td>\n",
              "      <td>61.0</td>\n",
              "      <td>326</td>\n",
              "      <td>3.89</td>\n",
              "      <td>3.84</td>\n",
              "      <td>2.31</td>\n",
              "    </tr>\n",
              "    <tr>\n",
              "      <th>2</th>\n",
              "      <td>3</td>\n",
              "      <td>0.23</td>\n",
              "      <td>Good</td>\n",
              "      <td>E</td>\n",
              "      <td>VS1</td>\n",
              "      <td>56.9</td>\n",
              "      <td>65.0</td>\n",
              "      <td>327</td>\n",
              "      <td>4.05</td>\n",
              "      <td>4.07</td>\n",
              "      <td>2.31</td>\n",
              "    </tr>\n",
              "    <tr>\n",
              "      <th>3</th>\n",
              "      <td>4</td>\n",
              "      <td>0.29</td>\n",
              "      <td>Premium</td>\n",
              "      <td>I</td>\n",
              "      <td>VS2</td>\n",
              "      <td>62.4</td>\n",
              "      <td>58.0</td>\n",
              "      <td>334</td>\n",
              "      <td>4.20</td>\n",
              "      <td>4.23</td>\n",
              "      <td>2.63</td>\n",
              "    </tr>\n",
              "    <tr>\n",
              "      <th>4</th>\n",
              "      <td>5</td>\n",
              "      <td>0.31</td>\n",
              "      <td>Good</td>\n",
              "      <td>J</td>\n",
              "      <td>SI2</td>\n",
              "      <td>63.3</td>\n",
              "      <td>58.0</td>\n",
              "      <td>335</td>\n",
              "      <td>4.34</td>\n",
              "      <td>4.35</td>\n",
              "      <td>2.75</td>\n",
              "    </tr>\n",
              "    <tr>\n",
              "      <th>...</th>\n",
              "      <td>...</td>\n",
              "      <td>...</td>\n",
              "      <td>...</td>\n",
              "      <td>...</td>\n",
              "      <td>...</td>\n",
              "      <td>...</td>\n",
              "      <td>...</td>\n",
              "      <td>...</td>\n",
              "      <td>...</td>\n",
              "      <td>...</td>\n",
              "      <td>...</td>\n",
              "    </tr>\n",
              "    <tr>\n",
              "      <th>53935</th>\n",
              "      <td>53936</td>\n",
              "      <td>0.72</td>\n",
              "      <td>Ideal</td>\n",
              "      <td>D</td>\n",
              "      <td>SI1</td>\n",
              "      <td>60.8</td>\n",
              "      <td>57.0</td>\n",
              "      <td>2757</td>\n",
              "      <td>5.75</td>\n",
              "      <td>5.76</td>\n",
              "      <td>3.50</td>\n",
              "    </tr>\n",
              "    <tr>\n",
              "      <th>53936</th>\n",
              "      <td>53937</td>\n",
              "      <td>0.72</td>\n",
              "      <td>Good</td>\n",
              "      <td>D</td>\n",
              "      <td>SI1</td>\n",
              "      <td>63.1</td>\n",
              "      <td>55.0</td>\n",
              "      <td>2757</td>\n",
              "      <td>5.69</td>\n",
              "      <td>5.75</td>\n",
              "      <td>3.61</td>\n",
              "    </tr>\n",
              "    <tr>\n",
              "      <th>53937</th>\n",
              "      <td>53938</td>\n",
              "      <td>0.70</td>\n",
              "      <td>Very Good</td>\n",
              "      <td>D</td>\n",
              "      <td>SI1</td>\n",
              "      <td>62.8</td>\n",
              "      <td>60.0</td>\n",
              "      <td>2757</td>\n",
              "      <td>5.66</td>\n",
              "      <td>5.68</td>\n",
              "      <td>3.56</td>\n",
              "    </tr>\n",
              "    <tr>\n",
              "      <th>53938</th>\n",
              "      <td>53939</td>\n",
              "      <td>0.86</td>\n",
              "      <td>Premium</td>\n",
              "      <td>H</td>\n",
              "      <td>SI2</td>\n",
              "      <td>61.0</td>\n",
              "      <td>58.0</td>\n",
              "      <td>2757</td>\n",
              "      <td>6.15</td>\n",
              "      <td>6.12</td>\n",
              "      <td>3.74</td>\n",
              "    </tr>\n",
              "    <tr>\n",
              "      <th>53939</th>\n",
              "      <td>53940</td>\n",
              "      <td>0.75</td>\n",
              "      <td>Ideal</td>\n",
              "      <td>D</td>\n",
              "      <td>SI2</td>\n",
              "      <td>62.2</td>\n",
              "      <td>55.0</td>\n",
              "      <td>2757</td>\n",
              "      <td>5.83</td>\n",
              "      <td>5.87</td>\n",
              "      <td>3.64</td>\n",
              "    </tr>\n",
              "  </tbody>\n",
              "</table>\n",
              "<p>53940 rows × 11 columns</p>\n",
              "</div>\n",
              "      <button class=\"colab-df-convert\" onclick=\"convertToInteractive('df-16915b4b-ae14-4d91-a55b-d4d61b847b1b')\"\n",
              "              title=\"Convert this dataframe to an interactive table.\"\n",
              "              style=\"display:none;\">\n",
              "        \n",
              "  <svg xmlns=\"http://www.w3.org/2000/svg\" height=\"24px\"viewBox=\"0 0 24 24\"\n",
              "       width=\"24px\">\n",
              "    <path d=\"M0 0h24v24H0V0z\" fill=\"none\"/>\n",
              "    <path d=\"M18.56 5.44l.94 2.06.94-2.06 2.06-.94-2.06-.94-.94-2.06-.94 2.06-2.06.94zm-11 1L8.5 8.5l.94-2.06 2.06-.94-2.06-.94L8.5 2.5l-.94 2.06-2.06.94zm10 10l.94 2.06.94-2.06 2.06-.94-2.06-.94-.94-2.06-.94 2.06-2.06.94z\"/><path d=\"M17.41 7.96l-1.37-1.37c-.4-.4-.92-.59-1.43-.59-.52 0-1.04.2-1.43.59L10.3 9.45l-7.72 7.72c-.78.78-.78 2.05 0 2.83L4 21.41c.39.39.9.59 1.41.59.51 0 1.02-.2 1.41-.59l7.78-7.78 2.81-2.81c.8-.78.8-2.07 0-2.86zM5.41 20L4 18.59l7.72-7.72 1.47 1.35L5.41 20z\"/>\n",
              "  </svg>\n",
              "      </button>\n",
              "      \n",
              "  <style>\n",
              "    .colab-df-container {\n",
              "      display:flex;\n",
              "      flex-wrap:wrap;\n",
              "      gap: 12px;\n",
              "    }\n",
              "\n",
              "    .colab-df-convert {\n",
              "      background-color: #E8F0FE;\n",
              "      border: none;\n",
              "      border-radius: 50%;\n",
              "      cursor: pointer;\n",
              "      display: none;\n",
              "      fill: #1967D2;\n",
              "      height: 32px;\n",
              "      padding: 0 0 0 0;\n",
              "      width: 32px;\n",
              "    }\n",
              "\n",
              "    .colab-df-convert:hover {\n",
              "      background-color: #E2EBFA;\n",
              "      box-shadow: 0px 1px 2px rgba(60, 64, 67, 0.3), 0px 1px 3px 1px rgba(60, 64, 67, 0.15);\n",
              "      fill: #174EA6;\n",
              "    }\n",
              "\n",
              "    [theme=dark] .colab-df-convert {\n",
              "      background-color: #3B4455;\n",
              "      fill: #D2E3FC;\n",
              "    }\n",
              "\n",
              "    [theme=dark] .colab-df-convert:hover {\n",
              "      background-color: #434B5C;\n",
              "      box-shadow: 0px 1px 3px 1px rgba(0, 0, 0, 0.15);\n",
              "      filter: drop-shadow(0px 1px 2px rgba(0, 0, 0, 0.3));\n",
              "      fill: #FFFFFF;\n",
              "    }\n",
              "  </style>\n",
              "\n",
              "      <script>\n",
              "        const buttonEl =\n",
              "          document.querySelector('#df-16915b4b-ae14-4d91-a55b-d4d61b847b1b button.colab-df-convert');\n",
              "        buttonEl.style.display =\n",
              "          google.colab.kernel.accessAllowed ? 'block' : 'none';\n",
              "\n",
              "        async function convertToInteractive(key) {\n",
              "          const element = document.querySelector('#df-16915b4b-ae14-4d91-a55b-d4d61b847b1b');\n",
              "          const dataTable =\n",
              "            await google.colab.kernel.invokeFunction('convertToInteractive',\n",
              "                                                     [key], {});\n",
              "          if (!dataTable) return;\n",
              "\n",
              "          const docLinkHtml = 'Like what you see? Visit the ' +\n",
              "            '<a target=\"_blank\" href=https://colab.research.google.com/notebooks/data_table.ipynb>data table notebook</a>'\n",
              "            + ' to learn more about interactive tables.';\n",
              "          element.innerHTML = '';\n",
              "          dataTable['output_type'] = 'display_data';\n",
              "          await google.colab.output.renderOutput(dataTable, element);\n",
              "          const docLink = document.createElement('div');\n",
              "          docLink.innerHTML = docLinkHtml;\n",
              "          element.appendChild(docLink);\n",
              "        }\n",
              "      </script>\n",
              "    </div>\n",
              "  </div>\n",
              "  "
            ],
            "text/plain": [
              "       Unnamed: 0  carat        cut color  ... price     x     y     z\n",
              "0               1   0.23      Ideal     E  ...   326  3.95  3.98  2.43\n",
              "1               2   0.21    Premium     E  ...   326  3.89  3.84  2.31\n",
              "2               3   0.23       Good     E  ...   327  4.05  4.07  2.31\n",
              "3               4   0.29    Premium     I  ...   334  4.20  4.23  2.63\n",
              "4               5   0.31       Good     J  ...   335  4.34  4.35  2.75\n",
              "...           ...    ...        ...   ...  ...   ...   ...   ...   ...\n",
              "53935       53936   0.72      Ideal     D  ...  2757  5.75  5.76  3.50\n",
              "53936       53937   0.72       Good     D  ...  2757  5.69  5.75  3.61\n",
              "53937       53938   0.70  Very Good     D  ...  2757  5.66  5.68  3.56\n",
              "53938       53939   0.86    Premium     H  ...  2757  6.15  6.12  3.74\n",
              "53939       53940   0.75      Ideal     D  ...  2757  5.83  5.87  3.64\n",
              "\n",
              "[53940 rows x 11 columns]"
            ]
          },
          "metadata": {},
          "execution_count": 7
        }
      ]
    },
    {
      "cell_type": "markdown",
      "source": [
        "# שאלה 1\n",
        "צרו מודל שכנים לפי 3 שכנים החוזה מה תהיה הבהירות של יהלום, לפי יתר הנתונים הנומריים עליו כמפורט מטה"
      ],
      "metadata": {
        "id": "ytW13dtzoV9V"
      }
    },
    {
      "cell_type": "code",
      "execution_count": 8,
      "metadata": {
        "id": "zIkEs7Ipn4X_",
        "colab": {
          "base_uri": "https://localhost:8080/"
        },
        "outputId": "cfadb9ac-f187-465a-e51a-ce1b908c4dd4"
      },
      "outputs": [
        {
          "output_type": "execute_result",
          "data": {
            "text/plain": [
              "array(['VS1', 'SI1', 'VS1', ..., 'VS2', 'VS2', 'VS1'], dtype=object)"
            ]
          },
          "metadata": {},
          "execution_count": 8
        }
      ],
      "source": [
        "\n",
        "#first, test train split\n",
        "train_df, test_df = train_test_split(diamonds_full_db, test_size=0.2)\n",
        "#model creation\n",
        "knn_classifier = KNeighborsClassifier(n_neighbors=3)\n",
        "featues_list = [\"table\", \"price\", \"depth\", \"carat\",\"y\",\"x\"]\n",
        "knn_classifier.fit(train_df[featues_list], train_df[\"clarity\"].values)\n",
        "#test\n",
        "clarity_values_test_list= test_df[\"clarity\"].values\n",
        "predict_clarity_list = knn_classifier.predict(test_df[featues_list])\n",
        "predict_clarity_list\n"
      ]
    },
    {
      "cell_type": "code",
      "source": [
        "#assembling a confusion metrics as a heat map\n",
        "from sklearn import metrics\n",
        "import matplotlib\n",
        "import matplotlib.pyplot as plt\n",
        "import seaborn as sns\n",
        "%matplotlib inline\n",
        "cm = metrics.confusion_matrix(clarity_values_test_list,predict_clarity_list)\n",
        "df_cm = pd.DataFrame(cm, columns=knn_classifier.classes_, index = knn_classifier.classes_)\n",
        "df_cm.index.name = 'Actual'\n",
        "df_cm.columns.name = 'Predicted'\n",
        "plt.figure(figsize = (10,7))\n",
        "sns.set(font_scale=1.4)#for label size\n",
        "sns.heatmap(df_cm, cmap=\"Blues\", annot=True,annot_kws={\"size\": 8})# font size\n"
      ],
      "metadata": {
        "colab": {
          "base_uri": "https://localhost:8080/",
          "height": 475
        },
        "id": "SXqy6e7wuKdZ",
        "outputId": "f593f2ae-1295-47ef-aaab-3514e4d04aba"
      },
      "execution_count": 9,
      "outputs": [
        {
          "output_type": "execute_result",
          "data": {
            "text/plain": [
              "<matplotlib.axes._subplots.AxesSubplot at 0x7feb02c1d050>"
            ]
          },
          "metadata": {},
          "execution_count": 9
        },
        {
          "output_type": "display_data",
          "data": {
            "image/png": "[encoded data removed]",
            "text/plain": [
              "<Figure size 720x504 with 2 Axes>"
            ]
          },
          "metadata": {
            "needs_background": "light"
          }
        }
      ]
    },
    {
      "cell_type": "code",
      "source": [
        "#checking the model's accuracy and f1 \n",
        "#accuracy:\n",
        "accuracy = metrics.accuracy_score(clarity_values_test_list,predict_clarity_list)\n",
        "print(f'model\\'s acurracy is: {accuracy}')\n",
        "#f1 score:\n",
        "from sklearn.metrics import f1_score\n",
        "f1 = f1_score(clarity_values_test_list,predict_clarity_list, average='macro') #for each category individually\n",
        "print(f'model\\'s F1 is: {f1}')"
      ],
      "metadata": {
        "colab": {
          "base_uri": "https://localhost:8080/"
        },
        "id": "sH8fzFF_vEEn",
        "outputId": "f113904b-b69e-4874-9758-310388656d51"
      },
      "execution_count": 10,
      "outputs": [
        {
          "output_type": "stream",
          "name": "stdout",
          "text": [
            "model's acurracy is: 0.35409714497589917\n",
            "model's F1 is: 0.2895964501142879\n"
          ]
        }
      ]
    },
    {
      "cell_type": "markdown",
      "source": [
        "# שאלה 2\n",
        "עבור מודלים במספר שכנים משתנה, צרו גרף המציג את דיוק המודל לפי המדדים שנבדקו"
      ],
      "metadata": {
        "id": "WwPuuyBI30nz"
      }
    },
    {
      "cell_type": "code",
      "source": [
        "k_values = []\n",
        "accuracy_values = []\n",
        "f1_values = []\n",
        "#first, test train split\n",
        "train_df, test_df = train_test_split(diamonds_full_db, test_size=0.2)\n",
        "\n",
        "for k in range(1,21,2):\n",
        "  #model creation\n",
        "  knn_classifier = KNeighborsClassifier(n_neighbors=k)#k change\n",
        "  featues_list = [\"table\", \"price\", \"depth\", \"carat\",\"y\",\"x\"]\n",
        "  knn_classifier.fit(train_df[featues_list], train_df[\"clarity\"].values)\n",
        "  #test\n",
        "  clarity_values_test_list= test_df[\"clarity\"].values\n",
        "  predict_clarity_list = knn_classifier.predict(test_df[featues_list])\n",
        "\n",
        "  accuracy = metrics.accuracy_score(clarity_values_test_list,predict_clarity_list)\n",
        "  f1 = f1_score(clarity_values_test_list,predict_clarity_list, average='macro') #for each category individually\n",
        "\n",
        "  #creating series for plots:\n",
        "  k_values.append(k)\n",
        "  accuracy_values.append(accuracy)\n",
        "  f1_values.append(f1)\n",
        "\n",
        "#and plotting the predictions:\n",
        "y = accuracy_values\n",
        "z = f1_values\n",
        "ki = list(range(len(k_values)))\n",
        "plt.figure(figsize=(10,5))\n",
        "plt.plot(ki, y, label='accuracy')\n",
        "plt.plot(ki, z, label='F1')\n",
        "\n",
        "plt.xticks(ki, k_values)\n",
        "plt.xlabel(\"k - value\")\n",
        "plt.ylabel(\"accurecy test parameter value\")\n",
        "plt.title(\"prediction models accuracy values\")\n",
        "\n",
        "plt.legend()"
      ],
      "metadata": {
        "colab": {
          "base_uri": "https://localhost:8080/",
          "height": 387
        },
        "id": "x-SYxa6fyX4b",
        "outputId": "30d34fd6-6036-477c-8529-7c31558d0c86"
      },
      "execution_count": 20,
      "outputs": [
        {
          "output_type": "execute_result",
          "data": {
            "text/plain": [
              "<matplotlib.legend.Legend at 0x7feaf6da4710>"
            ]
          },
          "metadata": {},
          "execution_count": 20
        },
        {
          "output_type": "display_data",
          "data": {
            "image/png": "[encoded data removed]",
            "text/plain": [
              "<Figure size 720x360 with 1 Axes>"
            ]
          },
          "metadata": {}
        }
      ]
    },
    {
      "cell_type": "code",
      "source": [
        "#and for seaborn visuality:\n",
        "df = pd.DataFrame(columns=[\"k\",\"f1\",\"accuracy\"])\n",
        "df[\"k\"] = k_values\n",
        "df[\"f1\"] = f1_values\n",
        "df[\"accuracy\"] = accuracy_values"
      ],
      "metadata": {
        "id": "2FYX3TDtbiDg"
      },
      "execution_count": 21,
      "outputs": []
    },
    {
      "cell_type": "code",
      "source": [
        "sns.scatterplot(x=\"k\", y=\"accuracy\", data=df)"
      ],
      "metadata": {
        "colab": {
          "base_uri": "https://localhost:8080/",
          "height": 313
        },
        "id": "vUNuKkV2cF-c",
        "outputId": "fe476124-daa8-4d5a-d3cd-196f7f858b21"
      },
      "execution_count": 22,
      "outputs": [
        {
          "output_type": "execute_result",
          "data": {
            "text/plain": [
              "<matplotlib.axes._subplots.AxesSubplot at 0x7feaf6e5b1d0>"
            ]
          },
          "metadata": {},
          "execution_count": 22
        },
        {
          "output_type": "display_data",
          "data": {
            "image/png": "[encoded data removed]",
            "text/plain": [
              "<Figure size 432x288 with 1 Axes>"
            ]
          },
          "metadata": {}
        }
      ]
    },
    {
      "cell_type": "code",
      "source": [
        "sns.scatterplot(x=\"k\", y=\"f1\", data=df)"
      ],
      "metadata": {
        "colab": {
          "base_uri": "https://localhost:8080/",
          "height": 313
        },
        "id": "RjeT8NhTcMUB",
        "outputId": "aea6aba5-8589-4e49-e30c-5065bd472e30"
      },
      "execution_count": 23,
      "outputs": [
        {
          "output_type": "execute_result",
          "data": {
            "text/plain": [
              "<matplotlib.axes._subplots.AxesSubplot at 0x7feaf6be2790>"
            ]
          },
          "metadata": {},
          "execution_count": 23
        },
        {
          "output_type": "display_data",
          "data": {
            "image/png": "[encoded data removed]",
            "text/plain": [
              "<Figure size 432x288 with 1 Axes>"
            ]
          },
          "metadata": {}
        }
      ]
    },
    {
      "cell_type": "markdown",
      "source": [
        "# שאלה 3 \n",
        "בנו מודלי שכנות ומודל עץ החוזים את ערך החיתוך של יהלום"
      ],
      "metadata": {
        "id": "nNUAnuw05t42"
      }
    },
    {
      "cell_type": "code",
      "source": [
        "from sklearn import metrics\n",
        "from sklearn import preprocessing\n",
        "#cut\n",
        "le = preprocessing.LabelEncoder()\n",
        "cut_values = set(diamonds_full_db['cut'].values)\n",
        "le.fit(list(cut_values))\n",
        "l = le.transform(diamonds_full_db['cut'].values)\n",
        "diamonds_full_db['cut_number'] = l\n",
        "#clarity\n",
        "clarity_values = set(diamonds_full_db['clarity'].values)\n",
        "le.fit(list(clarity_values))\n",
        "clarity = le.transform(diamonds_full_db['clarity'].values)\n",
        "diamonds_full_db['clarity_number'] = clarity\n",
        "#color\n",
        "color_values = set(diamonds_full_db['color'].values)\n",
        "le.fit(list(color_values))\n",
        "color = le.transform(diamonds_full_db['color'].values)\n",
        "diamonds_full_db['color_number'] = color\n",
        "\n",
        "diamonds_full_db = diamonds_full_db.dropna(axis=0)\n",
        "diamonds_full_db"
      ],
      "metadata": {
        "colab": {
          "base_uri": "https://localhost:8080/",
          "height": 423
        },
        "id": "xOMBAKS7B2Se",
        "outputId": "6f56e236-629e-4eda-e8fc-9ddedc3be1e7"
      },
      "execution_count": 14,
      "outputs": [
        {
          "output_type": "execute_result",
          "data": {
            "text/html": [
              "\n",
              "  <div id=\"df-c489aeb5-c184-43d0-bcd4-7680cc6267ba\">\n",
              "    <div class=\"colab-df-container\">\n",
              "      <div>\n",
              "<style scoped>\n",
              "    .dataframe tbody tr th:only-of-type {\n",
              "        vertical-align: middle;\n",
              "    }\n",
              "\n",
              "    .dataframe tbody tr th {\n",
              "        vertical-align: top;\n",
              "    }\n",
              "\n",
              "    .dataframe thead th {\n",
              "        text-align: right;\n",
              "    }\n",
              "</style>\n",
              "<table border=\"1\" class=\"dataframe\">\n",
              "  <thead>\n",
              "    <tr style=\"text-align: right;\">\n",
              "      <th></th>\n",
              "      <th>Unnamed: 0</th>\n",
              "      <th>carat</th>\n",
              "      <th>cut</th>\n",
              "      <th>color</th>\n",
              "      <th>clarity</th>\n",
              "      <th>depth</th>\n",
              "      <th>table</th>\n",
              "      <th>price</th>\n",
              "      <th>x</th>\n",
              "      <th>y</th>\n",
              "      <th>z</th>\n",
              "      <th>cut_number</th>\n",
              "      <th>clarity_number</th>\n",
              "      <th>color_number</th>\n",
              "    </tr>\n",
              "  </thead>\n",
              "  <tbody>\n",
              "    <tr>\n",
              "      <th>0</th>\n",
              "      <td>1</td>\n",
              "      <td>0.23</td>\n",
              "      <td>Ideal</td>\n",
              "      <td>E</td>\n",
              "      <td>SI2</td>\n",
              "      <td>61.5</td>\n",
              "      <td>55.0</td>\n",
              "      <td>326</td>\n",
              "      <td>3.95</td>\n",
              "      <td>3.98</td>\n",
              "      <td>2.43</td>\n",
              "      <td>2</td>\n",
              "      <td>3</td>\n",
              "      <td>1</td>\n",
              "    </tr>\n",
              "    <tr>\n",
              "      <th>1</th>\n",
              "      <td>2</td>\n",
              "      <td>0.21</td>\n",
              "      <td>Premium</td>\n",
              "      <td>E</td>\n",
              "      <td>SI1</td>\n",
              "      <td>59.8</td>\n",
              "      <td>61.0</td>\n",
              "      <td>326</td>\n",
              "      <td>3.89</td>\n",
              "      <td>3.84</td>\n",
              "      <td>2.31</td>\n",
              "      <td>3</td>\n",
              "      <td>2</td>\n",
              "      <td>1</td>\n",
              "    </tr>\n",
              "    <tr>\n",
              "      <th>2</th>\n",
              "      <td>3</td>\n",
              "      <td>0.23</td>\n",
              "      <td>Good</td>\n",
              "      <td>E</td>\n",
              "      <td>VS1</td>\n",
              "      <td>56.9</td>\n",
              "      <td>65.0</td>\n",
              "      <td>327</td>\n",
              "      <td>4.05</td>\n",
              "      <td>4.07</td>\n",
              "      <td>2.31</td>\n",
              "      <td>1</td>\n",
              "      <td>4</td>\n",
              "      <td>1</td>\n",
              "    </tr>\n",
              "    <tr>\n",
              "      <th>3</th>\n",
              "      <td>4</td>\n",
              "      <td>0.29</td>\n",
              "      <td>Premium</td>\n",
              "      <td>I</td>\n",
              "      <td>VS2</td>\n",
              "      <td>62.4</td>\n",
              "      <td>58.0</td>\n",
              "      <td>334</td>\n",
              "      <td>4.20</td>\n",
              "      <td>4.23</td>\n",
              "      <td>2.63</td>\n",
              "      <td>3</td>\n",
              "      <td>5</td>\n",
              "      <td>5</td>\n",
              "    </tr>\n",
              "    <tr>\n",
              "      <th>4</th>\n",
              "      <td>5</td>\n",
              "      <td>0.31</td>\n",
              "      <td>Good</td>\n",
              "      <td>J</td>\n",
              "      <td>SI2</td>\n",
              "      <td>63.3</td>\n",
              "      <td>58.0</td>\n",
              "      <td>335</td>\n",
              "      <td>4.34</td>\n",
              "      <td>4.35</td>\n",
              "      <td>2.75</td>\n",
              "      <td>1</td>\n",
              "      <td>3</td>\n",
              "      <td>6</td>\n",
              "    </tr>\n",
              "    <tr>\n",
              "      <th>...</th>\n",
              "      <td>...</td>\n",
              "      <td>...</td>\n",
              "      <td>...</td>\n",
              "      <td>...</td>\n",
              "      <td>...</td>\n",
              "      <td>...</td>\n",
              "      <td>...</td>\n",
              "      <td>...</td>\n",
              "      <td>...</td>\n",
              "      <td>...</td>\n",
              "      <td>...</td>\n",
              "      <td>...</td>\n",
              "      <td>...</td>\n",
              "      <td>...</td>\n",
              "    </tr>\n",
              "    <tr>\n",
              "      <th>53935</th>\n",
              "      <td>53936</td>\n",
              "      <td>0.72</td>\n",
              "      <td>Ideal</td>\n",
              "      <td>D</td>\n",
              "      <td>SI1</td>\n",
              "      <td>60.8</td>\n",
              "      <td>57.0</td>\n",
              "      <td>2757</td>\n",
              "      <td>5.75</td>\n",
              "      <td>5.76</td>\n",
              "      <td>3.50</td>\n",
              "      <td>2</td>\n",
              "      <td>2</td>\n",
              "      <td>0</td>\n",
              "    </tr>\n",
              "    <tr>\n",
              "      <th>53936</th>\n",
              "      <td>53937</td>\n",
              "      <td>0.72</td>\n",
              "      <td>Good</td>\n",
              "      <td>D</td>\n",
              "      <td>SI1</td>\n",
              "      <td>63.1</td>\n",
              "      <td>55.0</td>\n",
              "      <td>2757</td>\n",
              "      <td>5.69</td>\n",
              "      <td>5.75</td>\n",
              "      <td>3.61</td>\n",
              "      <td>1</td>\n",
              "      <td>2</td>\n",
              "      <td>0</td>\n",
              "    </tr>\n",
              "    <tr>\n",
              "      <th>53937</th>\n",
              "      <td>53938</td>\n",
              "      <td>0.70</td>\n",
              "      <td>Very Good</td>\n",
              "      <td>D</td>\n",
              "      <td>SI1</td>\n",
              "      <td>62.8</td>\n",
              "      <td>60.0</td>\n",
              "      <td>2757</td>\n",
              "      <td>5.66</td>\n",
              "      <td>5.68</td>\n",
              "      <td>3.56</td>\n",
              "      <td>4</td>\n",
              "      <td>2</td>\n",
              "      <td>0</td>\n",
              "    </tr>\n",
              "    <tr>\n",
              "      <th>53938</th>\n",
              "      <td>53939</td>\n",
              "      <td>0.86</td>\n",
              "      <td>Premium</td>\n",
              "      <td>H</td>\n",
              "      <td>SI2</td>\n",
              "      <td>61.0</td>\n",
              "      <td>58.0</td>\n",
              "      <td>2757</td>\n",
              "      <td>6.15</td>\n",
              "      <td>6.12</td>\n",
              "      <td>3.74</td>\n",
              "      <td>3</td>\n",
              "      <td>3</td>\n",
              "      <td>4</td>\n",
              "    </tr>\n",
              "    <tr>\n",
              "      <th>53939</th>\n",
              "      <td>53940</td>\n",
              "      <td>0.75</td>\n",
              "      <td>Ideal</td>\n",
              "      <td>D</td>\n",
              "      <td>SI2</td>\n",
              "      <td>62.2</td>\n",
              "      <td>55.0</td>\n",
              "      <td>2757</td>\n",
              "      <td>5.83</td>\n",
              "      <td>5.87</td>\n",
              "      <td>3.64</td>\n",
              "      <td>2</td>\n",
              "      <td>3</td>\n",
              "      <td>0</td>\n",
              "    </tr>\n",
              "  </tbody>\n",
              "</table>\n",
              "<p>53940 rows × 14 columns</p>\n",
              "</div>\n",
              "      <button class=\"colab-df-convert\" onclick=\"convertToInteractive('df-c489aeb5-c184-43d0-bcd4-7680cc6267ba')\"\n",
              "              title=\"Convert this dataframe to an interactive table.\"\n",
              "              style=\"display:none;\">\n",
              "        \n",
              "  <svg xmlns=\"http://www.w3.org/2000/svg\" height=\"24px\"viewBox=\"0 0 24 24\"\n",
              "       width=\"24px\">\n",
              "    <path d=\"M0 0h24v24H0V0z\" fill=\"none\"/>\n",
              "    <path d=\"M18.56 5.44l.94 2.06.94-2.06 2.06-.94-2.06-.94-.94-2.06-.94 2.06-2.06.94zm-11 1L8.5 8.5l.94-2.06 2.06-.94-2.06-.94L8.5 2.5l-.94 2.06-2.06.94zm10 10l.94 2.06.94-2.06 2.06-.94-2.06-.94-.94-2.06-.94 2.06-2.06.94z\"/><path d=\"M17.41 7.96l-1.37-1.37c-.4-.4-.92-.59-1.43-.59-.52 0-1.04.2-1.43.59L10.3 9.45l-7.72 7.72c-.78.78-.78 2.05 0 2.83L4 21.41c.39.39.9.59 1.41.59.51 0 1.02-.2 1.41-.59l7.78-7.78 2.81-2.81c.8-.78.8-2.07 0-2.86zM5.41 20L4 18.59l7.72-7.72 1.47 1.35L5.41 20z\"/>\n",
              "  </svg>\n",
              "      </button>\n",
              "      \n",
              "  <style>\n",
              "    .colab-df-container {\n",
              "      display:flex;\n",
              "      flex-wrap:wrap;\n",
              "      gap: 12px;\n",
              "    }\n",
              "\n",
              "    .colab-df-convert {\n",
              "      background-color: #E8F0FE;\n",
              "      border: none;\n",
              "      border-radius: 50%;\n",
              "      cursor: pointer;\n",
              "      display: none;\n",
              "      fill: #1967D2;\n",
              "      height: 32px;\n",
              "      padding: 0 0 0 0;\n",
              "      width: 32px;\n",
              "    }\n",
              "\n",
              "    .colab-df-convert:hover {\n",
              "      background-color: #E2EBFA;\n",
              "      box-shadow: 0px 1px 2px rgba(60, 64, 67, 0.3), 0px 1px 3px 1px rgba(60, 64, 67, 0.15);\n",
              "      fill: #174EA6;\n",
              "    }\n",
              "\n",
              "    [theme=dark] .colab-df-convert {\n",
              "      background-color: #3B4455;\n",
              "      fill: #D2E3FC;\n",
              "    }\n",
              "\n",
              "    [theme=dark] .colab-df-convert:hover {\n",
              "      background-color: #434B5C;\n",
              "      box-shadow: 0px 1px 3px 1px rgba(0, 0, 0, 0.15);\n",
              "      filter: drop-shadow(0px 1px 2px rgba(0, 0, 0, 0.3));\n",
              "      fill: #FFFFFF;\n",
              "    }\n",
              "  </style>\n",
              "\n",
              "      <script>\n",
              "        const buttonEl =\n",
              "          document.querySelector('#df-c489aeb5-c184-43d0-bcd4-7680cc6267ba button.colab-df-convert');\n",
              "        buttonEl.style.display =\n",
              "          google.colab.kernel.accessAllowed ? 'block' : 'none';\n",
              "\n",
              "        async function convertToInteractive(key) {\n",
              "          const element = document.querySelector('#df-c489aeb5-c184-43d0-bcd4-7680cc6267ba');\n",
              "          const dataTable =\n",
              "            await google.colab.kernel.invokeFunction('convertToInteractive',\n",
              "                                                     [key], {});\n",
              "          if (!dataTable) return;\n",
              "\n",
              "          const docLinkHtml = 'Like what you see? Visit the ' +\n",
              "            '<a target=\"_blank\" href=https://colab.research.google.com/notebooks/data_table.ipynb>data table notebook</a>'\n",
              "            + ' to learn more about interactive tables.';\n",
              "          element.innerHTML = '';\n",
              "          dataTable['output_type'] = 'display_data';\n",
              "          await google.colab.output.renderOutput(dataTable, element);\n",
              "          const docLink = document.createElement('div');\n",
              "          docLink.innerHTML = docLinkHtml;\n",
              "          element.appendChild(docLink);\n",
              "        }\n",
              "      </script>\n",
              "    </div>\n",
              "  </div>\n",
              "  "
            ],
            "text/plain": [
              "       Unnamed: 0  carat        cut  ... cut_number clarity_number  color_number\n",
              "0               1   0.23      Ideal  ...          2              3             1\n",
              "1               2   0.21    Premium  ...          3              2             1\n",
              "2               3   0.23       Good  ...          1              4             1\n",
              "3               4   0.29    Premium  ...          3              5             5\n",
              "4               5   0.31       Good  ...          1              3             6\n",
              "...           ...    ...        ...  ...        ...            ...           ...\n",
              "53935       53936   0.72      Ideal  ...          2              2             0\n",
              "53936       53937   0.72       Good  ...          1              2             0\n",
              "53937       53938   0.70  Very Good  ...          4              2             0\n",
              "53938       53939   0.86    Premium  ...          3              3             4\n",
              "53939       53940   0.75      Ideal  ...          2              3             0\n",
              "\n",
              "[53940 rows x 14 columns]"
            ]
          },
          "metadata": {},
          "execution_count": 14
        }
      ]
    },
    {
      "cell_type": "code",
      "source": [
        "#first, test train split\n",
        "train_df, test_df = train_test_split(diamonds_full_db, test_size=0.2)\n",
        "accuracy_dict = {}\n",
        "#k-nn models:\n",
        "for k in range(1,8,2):\n",
        "  #model creation\n",
        "  knn_classifier = KNeighborsClassifier(n_neighbors=k)#k change\n",
        "  featues_list = [\"table\", \"price\", \"depth\", \"carat\",\"y\",\"x\"]\n",
        "  knn_classifier.fit(train_df[featues_list], train_df[\"cut\"].values)\n",
        "  #test\n",
        "  cut_values_test_list= test_df[\"cut\"].values\n",
        "  predict_cut_list = knn_classifier.predict(test_df[featues_list])\n",
        "\n",
        "  accuracy = metrics.accuracy_score(cut_values_test_list,predict_cut_list)\n",
        "  accuracy_dict[f'{k}-neighbors model'] = accuracy\n",
        "  print(f'k-neighbors model for {k} neighbors prediction the diamonds cut asaccuracy of: {accuracy}')\n",
        "\n",
        "#tree model\n",
        "from sklearn.tree import DecisionTreeRegressor \n",
        "\n",
        "tree_reg = DecisionTreeRegressor(random_state=0)\n",
        "featues_list = [\"table\", \"price\", \"depth\", \"carat\",\"y\",\"x\"]\n",
        "tree_reg.fit(train_df[featues_list], train_df[\"cut_number\"].values)\n",
        "\n",
        "cut_values_test_list= test_df[\"cut_number\"].values\n",
        "predict_cut_list = tree_reg.predict(test_df[featues_list])\n",
        "accuracy = metrics.accuracy_score(cut_values_test_list,predict_cut_list)\n",
        "accuracy_dict[f'tree model'] = accuracy\n",
        "print(f'tree model predicting the diamonds cut accuracy is: {accuracy}')\n"
      ],
      "metadata": {
        "colab": {
          "base_uri": "https://localhost:8080/"
        },
        "id": "u4Qiajle5tm3",
        "outputId": "ad7ba468-644c-4a12-c621-0f5fa0584343"
      },
      "execution_count": 15,
      "outputs": [
        {
          "output_type": "stream",
          "name": "stdout",
          "text": [
            "k-neighbors model for 1 neighbors prediction the diamonds cut asaccuracy of: 0.5574712643678161\n",
            "k-neighbors model for 3 neighbors prediction the diamonds cut asaccuracy of: 0.5597886540600667\n",
            "k-neighbors model for 5 neighbors prediction the diamonds cut asaccuracy of: 0.5632183908045977\n",
            "k-neighbors model for 7 neighbors prediction the diamonds cut asaccuracy of: 0.5528364849833148\n",
            "tree model predicting the diamonds cut accuracy is: 0.6941972562106044\n"
          ]
        }
      ]
    },
    {
      "cell_type": "code",
      "source": [
        "#best model\n",
        "for key in accuracy_dict.keys():\n",
        "  if accuracy_dict[key] == max(accuracy_dict.values()):\n",
        "    print(f'The most accurate model is: {key} with accuracy of: {accuracy_dict[key]}')"
      ],
      "metadata": {
        "colab": {
          "base_uri": "https://localhost:8080/"
        },
        "id": "MLFh3lkzCpl9",
        "outputId": "b59467ac-3450-48f5-9a89-afa013322f71"
      },
      "execution_count": 16,
      "outputs": [
        {
          "output_type": "stream",
          "name": "stdout",
          "text": [
            "The most accurate model is: tree model with accuracy of: 0.6941972562106044\n"
          ]
        }
      ]
    },
    {
      "cell_type": "markdown",
      "source": [
        "# שאלה 4\n",
        "הוסיפו למודלים מידע על צבע היהלום ודרגת הבהירות שלו. מה המודל הטוב ביותר כעת?"
      ],
      "metadata": {
        "id": "HokmMvrXDS_3"
      }
    },
    {
      "cell_type": "code",
      "source": [
        "accuracy_dict = {}\n",
        "#k-nn models:\n",
        "for k in range(1,8,2):\n",
        "  #model creation\n",
        "  knn_classifier = KNeighborsClassifier(n_neighbors=k)#k change\n",
        "  featues_list = [\"table\", \"price\", \"depth\", \"carat\",\"y\",\"x\",\"color_number\",\"clarity_number\"]\n",
        "  knn_classifier.fit(train_df[featues_list], train_df[\"cut\"].values)\n",
        "  #test\n",
        "  cut_values_test_list= test_df[\"cut\"].values\n",
        "  predict_cut_list = knn_classifier.predict(test_df[featues_list])\n",
        "\n",
        "  accuracy = metrics.accuracy_score(cut_values_test_list,predict_cut_list)\n",
        "  accuracy_dict[f'{k}-neighbors model'] = accuracy\n",
        "  print(f'k-neighbors model for {k} neighbors prediction the diamonds cut asaccuracy of: {accuracy}')\n",
        "\n",
        "#tree model\n",
        "from sklearn.tree import DecisionTreeRegressor \n",
        "\n",
        "tree_reg = DecisionTreeRegressor(random_state=0)\n",
        "featues_list = [\"table\", \"price\", \"depth\", \"carat\",\"y\",\"x\",\"clarity_number\",\"color_number\"]\n",
        "tree_reg.fit(train_df[featues_list], train_df[\"cut_number\"].values)\n",
        "\n",
        "cut_values_test_list= test_df[\"cut_number\"].values\n",
        "predict_cut_list = tree_reg.predict(test_df[featues_list])\n",
        "accuracy = metrics.accuracy_score(cut_values_test_list,predict_cut_list)\n",
        "accuracy_dict[f'tree model'] = accuracy\n",
        "print(f'tree model predicting the diamonds cut accuracy is: {accuracy}')"
      ],
      "metadata": {
        "colab": {
          "base_uri": "https://localhost:8080/"
        },
        "id": "DXAF99UTE30r",
        "outputId": "e5ed0435-b529-4ec4-e605-ddc4c17b1cd1"
      },
      "execution_count": 17,
      "outputs": [
        {
          "output_type": "stream",
          "name": "stdout",
          "text": [
            "k-neighbors model for 1 neighbors prediction the diamonds cut asaccuracy of: 0.5419911012235817\n",
            "k-neighbors model for 3 neighbors prediction the diamonds cut asaccuracy of: 0.5323507601038191\n",
            "k-neighbors model for 5 neighbors prediction the diamonds cut asaccuracy of: 0.5404152762328513\n",
            "k-neighbors model for 7 neighbors prediction the diamonds cut asaccuracy of: 0.5302187615869485\n",
            "tree model predicting the diamonds cut accuracy is: 0.6909529106414535\n"
          ]
        }
      ]
    },
    {
      "cell_type": "code",
      "source": [
        "#best model\n",
        "for key in accuracy_dict.keys():\n",
        "  if accuracy_dict[key] == max(accuracy_dict.values()):\n",
        "    print(f'The most accurate model is: {key} with accuracy of: {accuracy_dict[key]}')"
      ],
      "metadata": {
        "colab": {
          "base_uri": "https://localhost:8080/"
        },
        "id": "8pGUraiFHjsI",
        "outputId": "2dc518c3-8629-4832-ecbb-2d0e22fc448a"
      },
      "execution_count": 18,
      "outputs": [
        {
          "output_type": "stream",
          "name": "stdout",
          "text": [
            "The most accurate model is: tree model with accuracy of: 0.6909529106414535\n"
          ]
        }
      ]
    },
    {
      "cell_type": "markdown",
      "source": [
        "הוספת הנתונים למודלים לא שיפרה את יכולת החיזוי שלהם"
      ],
      "metadata": {
        "id": "fCzXEYetdDBc"
      }
    },
    {
      "cell_type": "markdown",
      "source": [
        "# שאלה 5\n",
        "עבור 5 שכנים, בנו מודלים המחושב ע\"ס קובץ אימון בגדלים משתנים, והציגו את מידת הדיוק שלו כפונקציה של גודל קובץ האימון"
      ],
      "metadata": {
        "id": "l9BWQfYbH_q8"
      }
    },
    {
      "cell_type": "code",
      "source": [
        "train_df_size = [0.05,0.1,0.2,0.5,0.75,0.8,0.9]\n",
        "accuracy_values = []\n",
        "full_train_df, test_df = train_test_split(diamonds_full_db, test_size= 0.1)\n",
        "real_test_file = test_df\n",
        "for i in train_df_size:\n",
        "  #first, test train split\n",
        "  train_df, test_df = train_test_split(full_train_df, train_size= i)\n",
        "\n",
        "  #model creation\n",
        "  knn_classifier = KNeighborsClassifier(n_neighbors=5)\n",
        "  featues_list = [\"table\", \"price\", \"depth\", \"carat\",\"y\",\"x\",\"color_number\",\"clarity_number\"]\n",
        "  knn_classifier.fit(train_df[featues_list], train_df[\"cut\"].values)\n",
        "\n",
        "  #test\n",
        "  clarity_values_test_list= real_test_file[\"cut\"].values\n",
        "  predict_clarity_list = knn_classifier.predict(real_test_file[featues_list])\n",
        "\n",
        "  accuracy = metrics.accuracy_score(clarity_values_test_list,predict_clarity_list)\n",
        "  accuracy_values.append(accuracy)\n",
        "\n",
        "\n",
        "#and plotting the predictions:\n",
        "y = accuracy_values\n",
        "#xi = list(range(len(train_df_size)))\n",
        "plt.figure(figsize=(15,5))\n",
        "plt.plot(train_df_size, y, label='accuracy')\n",
        "\n",
        "plt.xticks(train_df_size)\n",
        "plt.xlabel(\"train df size\")\n",
        "plt.ylabel(\"accurecy of k5 model\")\n",
        "\n",
        "plt.legend()"
      ],
      "metadata": {
        "colab": {
          "base_uri": "https://localhost:8080/",
          "height": 367
        },
        "id": "XYPAvR4GIb5x",
        "outputId": "9849cb3b-8d28-490e-9e63-85fe26725a1d"
      },
      "execution_count": 24,
      "outputs": [
        {
          "output_type": "execute_result",
          "data": {
            "text/plain": [
              "<matplotlib.legend.Legend at 0x7feaf6af4b50>"
            ]
          },
          "metadata": {},
          "execution_count": 24
        },
        {
          "output_type": "display_data",
          "data": {
            "image/png": "[encoded data removed]",
            "text/plain": [
              "<Figure size 1080x360 with 1 Axes>"
            ]
          },
          "metadata": {}
        }
      ]
    }
  ]
}